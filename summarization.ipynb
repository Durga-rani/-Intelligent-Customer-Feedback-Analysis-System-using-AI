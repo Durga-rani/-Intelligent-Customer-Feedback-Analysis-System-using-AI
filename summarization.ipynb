from transformers import pipeline

# Load summarizer
summarizer = pipeline("summarization", model="facebook/bart-large-cnn")

# Example feedback
long_feedback = """
I had a terrible experience with the customer support. They took too long to respond and didn’t resolve my issue.
The product quality was also below expectations. I’m very disappointed and won’t be buying again.
"""

# Generate summaries
short_summary = summarizer(long_feedback, max_length=50, min_length=25, do_sample=False)
detailed_summary = summarizer(long_feedback, max_length=100, min_length=50, do_sample=False)

print("Short Summary:", short_summary[0]['summary_text'])
print("Detailed Summary:", detailed_summary[0]['summary_text'])
