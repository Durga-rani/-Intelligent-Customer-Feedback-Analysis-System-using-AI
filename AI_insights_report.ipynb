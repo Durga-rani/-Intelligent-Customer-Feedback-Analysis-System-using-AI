import pandas as pd
import matplotlib.pyplot as plt
from prophet import Prophet

# Load data
df = pd.read_csv('cleaned_feedback.csv')

# Identify recurring issues
issues = df['cleaned_feedback'].str.extractall(r'(delay|refund|support|quality|price)').value_counts()
issues.plot(kind='bar', title='Recurring Issues')

# Simulate satisfaction scores
df['date'] = pd.date_range(start='2023-01-01', periods=len(df), freq='D')
df['satisfaction_score'] = np.random.randint(1, 6, size=len(df))

# Prepare for forecasting
forecast_df = df[['date', 'satisfaction_score']].rename(columns={'date': 'ds', 'satisfaction_score': 'y'})
model = Prophet()
model.fit(forecast_df)

future = model.make_future_dataframe(periods=30)
forecast = model.predict(future)

# Plot forecast
model.plot(forecast)
plt.title('Customer Satisfaction Forecast')
plt.show()
